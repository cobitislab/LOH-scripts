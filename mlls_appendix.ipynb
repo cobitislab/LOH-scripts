{
 "cells": [
  {
   "cell_type": "markdown",
   "metadata": {},
   "source": [
    "# Using SNP mismatches to delimit multilocus lineages (MLLs)\n",
    "Individuals belonging to the same clonal lineages should show higher-than-expected identity across loci. This is usually explored by plotting a histogram of pairwise distances and looking for a peak with the lowest distances between individuals, and a saddle point, giving us a threshold distance to distinguish intraclonal and interclonal comparisons.\n",
    "\n",
    "Here we used hamming distance (i.e. any mismatch in genotype), divided by total number of sites compared for a given pair, as a distance measure to make the histogram.\n",
    "\n",
    "Let's start by preparing a workspace: setting default plot options and loading the [magrittr library](https://cran.r-project.org/web/packages/magrittr/vignettes/magrittr.html) for easier manipulation of data with *pipes* (`%>%` and others)."
   ]
  },
  {
   "cell_type": "code",
   "execution_count": 1,
   "metadata": {
    "scrolled": true
   },
   "outputs": [],
   "source": [
    "options(repr.plot.width=7, repr.plot.height=5, jupyter.plot_scale = 1)\n",
    "\n",
    "library(magrittr)"
   ]
  },
  {
   "cell_type": "markdown",
   "metadata": {},
   "source": [
    "Load a table produced by `pairwise_mismatches.r` script with additional information on species and hybrid biotypes included:"
   ]
  },
  {
   "cell_type": "code",
   "execution_count": 2,
   "metadata": {},
   "outputs": [
    {
     "data": {
      "text/html": [
       "<table>\n",
       "<caption>A data.frame: 6 × 7</caption>\n",
       "<thead>\n",
       "\t<tr><th></th><th scope=col>anim1</th><th scope=col>anim2</th><th scope=col>total</th><th scope=col>mismatch</th><th scope=col>p_mismatch</th><th scope=col>bio1</th><th scope=col>bio2</th></tr>\n",
       "\t<tr><th></th><th scope=col>&lt;chr&gt;</th><th scope=col>&lt;chr&gt;</th><th scope=col>&lt;int&gt;</th><th scope=col>&lt;int&gt;</th><th scope=col>&lt;dbl&gt;</th><th scope=col>&lt;chr&gt;</th><th scope=col>&lt;chr&gt;</th></tr>\n",
       "</thead>\n",
       "<tbody>\n",
       "\t<tr><th scope=row>1</th><td>csc008</td><td>csc009</td><td> 80213</td><td>55478</td><td>0.6916335</td><td>TT </td><td>EE </td></tr>\n",
       "\t<tr><th scope=row>2</th><td>csc009</td><td>csc011</td><td>103708</td><td>67617</td><td>0.6519941</td><td>EE </td><td>EET</td></tr>\n",
       "\t<tr><th scope=row>3</th><td>csc008</td><td>csc011</td><td> 87545</td><td>56752</td><td>0.6482609</td><td>TT </td><td>EET</td></tr>\n",
       "\t<tr><th scope=row>4</th><td>csc008</td><td>csc012</td><td> 85944</td><td>56252</td><td>0.6545192</td><td>TT </td><td>EEN</td></tr>\n",
       "\t<tr><th scope=row>5</th><td>csc009</td><td>csc012</td><td>101650</td><td>56782</td><td>0.5586030</td><td>EE </td><td>EEN</td></tr>\n",
       "\t<tr><th scope=row>6</th><td>csc011</td><td>csc012</td><td>124082</td><td>22653</td><td>0.1825648</td><td>EET</td><td>EEN</td></tr>\n",
       "</tbody>\n",
       "</table>\n"
      ],
      "text/latex": [
       "A data.frame: 6 × 7\n",
       "\\begin{tabular}{r|lllllll}\n",
       "  & anim1 & anim2 & total & mismatch & p\\_mismatch & bio1 & bio2\\\\\n",
       "  & <chr> & <chr> & <int> & <int> & <dbl> & <chr> & <chr>\\\\\n",
       "\\hline\n",
       "\t1 & csc008 & csc009 &  80213 & 55478 & 0.6916335 & TT  & EE \\\\\n",
       "\t2 & csc009 & csc011 & 103708 & 67617 & 0.6519941 & EE  & EET\\\\\n",
       "\t3 & csc008 & csc011 &  87545 & 56752 & 0.6482609 & TT  & EET\\\\\n",
       "\t4 & csc008 & csc012 &  85944 & 56252 & 0.6545192 & TT  & EEN\\\\\n",
       "\t5 & csc009 & csc012 & 101650 & 56782 & 0.5586030 & EE  & EEN\\\\\n",
       "\t6 & csc011 & csc012 & 124082 & 22653 & 0.1825648 & EET & EEN\\\\\n",
       "\\end{tabular}\n"
      ],
      "text/markdown": [
       "\n",
       "A data.frame: 6 × 7\n",
       "\n",
       "| <!--/--> | anim1 &lt;chr&gt; | anim2 &lt;chr&gt; | total &lt;int&gt; | mismatch &lt;int&gt; | p_mismatch &lt;dbl&gt; | bio1 &lt;chr&gt; | bio2 &lt;chr&gt; |\n",
       "|---|---|---|---|---|---|---|---|\n",
       "| 1 | csc008 | csc009 |  80213 | 55478 | 0.6916335 | TT  | EE  |\n",
       "| 2 | csc009 | csc011 | 103708 | 67617 | 0.6519941 | EE  | EET |\n",
       "| 3 | csc008 | csc011 |  87545 | 56752 | 0.6482609 | TT  | EET |\n",
       "| 4 | csc008 | csc012 |  85944 | 56252 | 0.6545192 | TT  | EEN |\n",
       "| 5 | csc009 | csc012 | 101650 | 56782 | 0.5586030 | EE  | EEN |\n",
       "| 6 | csc011 | csc012 | 124082 | 22653 | 0.1825648 | EET | EEN |\n",
       "\n"
      ],
      "text/plain": [
       "  anim1  anim2  total  mismatch p_mismatch bio1 bio2\n",
       "1 csc008 csc009  80213 55478    0.6916335  TT   EE  \n",
       "2 csc009 csc011 103708 67617    0.6519941  EE   EET \n",
       "3 csc008 csc011  87545 56752    0.6482609  TT   EET \n",
       "4 csc008 csc012  85944 56252    0.6545192  TT   EEN \n",
       "5 csc009 csc012 101650 56782    0.5586030  EE   EEN \n",
       "6 csc011 csc012 124082 22653    0.1825648  EET  EEN "
      ]
     },
     "metadata": {},
     "output_type": "display_data"
    }
   ],
   "source": [
    "distances <- read.csv(\"LOH_dist.csv\")[,-1] # [,-1] excludes rownames exported by write.csv()\n",
    "head(distances)"
   ]
  },
  {
   "cell_type": "markdown",
   "metadata": {},
   "source": [
    "The two `bio` columns describe species or hybrid type of samples in the two `anim` columns:\n",
    "\n",
    "- anim1 ~ bio1\n",
    "- anim2 ~ bio2\n",
    "\n",
    "Species and hybrid biotypes in the dataset:"
   ]
  },
  {
   "cell_type": "code",
   "execution_count": 3,
   "metadata": {},
   "outputs": [
    {
     "data": {
      "text/html": [
       "<style>\n",
       ".list-inline {list-style: none; margin:0; padding: 0}\n",
       ".list-inline>li {display: inline-block}\n",
       ".list-inline>li:not(:last-child)::after {content: \"\\00b7\"; padding: 0 .5ex}\n",
       "</style>\n",
       "<ol class=list-inline><li>'TT'</li><li>'EE'</li><li>'EET'</li><li>'EEN'</li><li>'NN'</li><li>'ET'</li><li>'EN'</li><li>'ETT'</li></ol>\n"
      ],
      "text/latex": [
       "\\begin{enumerate*}\n",
       "\\item 'TT'\n",
       "\\item 'EE'\n",
       "\\item 'EET'\n",
       "\\item 'EEN'\n",
       "\\item 'NN'\n",
       "\\item 'ET'\n",
       "\\item 'EN'\n",
       "\\item 'ETT'\n",
       "\\end{enumerate*}\n"
      ],
      "text/markdown": [
       "1. 'TT'\n",
       "2. 'EE'\n",
       "3. 'EET'\n",
       "4. 'EEN'\n",
       "5. 'NN'\n",
       "6. 'ET'\n",
       "7. 'EN'\n",
       "8. 'ETT'\n",
       "\n",
       "\n"
      ],
      "text/plain": [
       "[1] \"TT\"  \"EE\"  \"EET\" \"EEN\" \"NN\"  \"ET\"  \"EN\"  \"ETT\""
      ]
     },
     "metadata": {},
     "output_type": "display_data"
    }
   ],
   "source": [
    "c(distances$bio1, distances$bio2) %>% unique"
   ]
  },
  {
   "cell_type": "markdown",
   "metadata": {},
   "source": [
    "## Plots\n",
    "Now we can plot histograms using the `p_mismatch` column, i.e. the proportion of mismatches in total positions considered for each pair:"
   ]
  },
  {
   "cell_type": "code",
   "execution_count": 4,
   "metadata": {
    "scrolled": false
   },
   "outputs": [
    {
     "data": {
      "image/png": "[encoded data removed]",
      "text/plain": [
       "Plot with title “Proportion of mismatches”"
      ]
     },
     "metadata": {
      "image/png": {
       "height": 600,
       "width": 840
      }
     },
     "output_type": "display_data"
    }
   ],
   "source": [
    "hist(distances$p_mismatch, main=\"Proportion of mismatches\", breaks=150, xlab=\"mismatch / total\")"
   ]
  },
  {
   "cell_type": "markdown",
   "metadata": {},
   "source": [
    "Let's deconstruct the above histogram by subsetting the data to several categories and plotting them.\n",
    "\n",
    "The plots below show distances (in terms of proportion of mismatches between genotypes) for these groups:\n",
    "- **TT** = within *C. taenia*\n",
    "- **EE** = within *C. elongatoides*\n",
    "- **TT/EE** = between *C. taenia* and *C. elongatoides*\n",
    "- **Hybrids** = all asexual hybrids"
   ]
  },
  {
   "cell_type": "code",
   "execution_count": 5,
   "metadata": {
    "scrolled": false
   },
   "outputs": [
    {
     "data": {
      "image/png": "[encoded data removed]",
      "text/plain": [
       "Plot with title “EE”"
      ]
     },
     "metadata": {
      "image/png": {
       "height": 600,
       "width": 840
      }
     },
     "output_type": "display_data"
    },
    {
     "data": {
      "image/png": "[encoded data removed]",
      "text/plain": [
       "Plot with title “Hybrids”"
      ]
     },
     "metadata": {
      "image/png": {
       "height": 600,
       "width": 840
      }
     },
     "output_type": "display_data"
    }
   ],
   "source": [
    "par(mfrow=c(1,2))\n",
    "distances %>% subset(bio1==\"TT\" & bio2==\"TT\") %$% hist(p_mismatch, breaks=20, main=\"TT\")\n",
    "distances %>% subset(bio1==\"EE\" & bio2==\"EE\") %$% hist(p_mismatch, breaks=20, main=\"EE\")\n",
    "distances %>% subset((bio1==\"EE\" & bio2==\"TT\") | (bio1==\"TT\" & bio2==\"EE\")) %$% hist(p_mismatch, breaks=30, main=\"EE/TT\")\n",
    "distances %>% subset(grepl(\"ET|EN\",bio1) & grepl(\"ET|EN\",bio2)) %$% hist(p_mismatch, breaks=30, main=\"Hybrids\")"
   ]
  },
  {
   "cell_type": "markdown",
   "metadata": {},
   "source": [
    "We can see that distances **within sexual species** (here TT or EE) have a peak around 0.1, with *C. taenia* (TT) showing smaller distances than *C. elongatoides*, which is expected, given its smaller effective population size.\n",
    "\n",
    "The right-most peak with the largest distances corresponds to comparisons **between sexual species** EE and TT.\n",
    "\n",
    "> Note that we don't show all combinations here - there is also *C. tanaitica*, or comparisons between sexuals and asexual hybrids. But we are interested in lineages within asexuals, so we will leave these illustrative examples as they are now.\n",
    "\n",
    "Lastly, the **asexual hybrids** show several peaks. Let's zoom in on their histogram:"
   ]
  },
  {
   "cell_type": "code",
   "execution_count": 6,
   "metadata": {},
   "outputs": [
    {
     "data": {
      "image/png": "[encoded data removed]",
      "text/plain": [
       "Plot with title “Asexual hybrids”"
      ]
     },
     "metadata": {
      "image/png": {
       "height": 600,
       "width": 840
      }
     },
     "output_type": "display_data"
    }
   ],
   "source": [
    "distances %>% subset(grepl(\"ET|EN\",bio1) & grepl(\"ET|EN\",bio2)) %$% \n",
    "    hist(p_mismatch, breaks=50, main=\"Asexual hybrids\")"
   ]
  },
  {
   "cell_type": "markdown",
   "metadata": {},
   "source": [
    "Let's save this subset of data into a new object `hybs` for easier access:"
   ]
  },
  {
   "cell_type": "code",
   "execution_count": 7,
   "metadata": {},
   "outputs": [
    {
     "data": {
      "text/html": [
       "<style>\n",
       ".list-inline {list-style: none; margin:0; padding: 0}\n",
       ".list-inline>li {display: inline-block}\n",
       ".list-inline>li:not(:last-child)::after {content: \"\\00b7\"; padding: 0 .5ex}\n",
       "</style>\n",
       "<ol class=list-inline><li>'EET'</li><li>'EEN'</li><li>'ET'</li><li>'EN'</li><li>'ETT'</li></ol>\n"
      ],
      "text/latex": [
       "\\begin{enumerate*}\n",
       "\\item 'EET'\n",
       "\\item 'EEN'\n",
       "\\item 'ET'\n",
       "\\item 'EN'\n",
       "\\item 'ETT'\n",
       "\\end{enumerate*}\n"
      ],
      "text/markdown": [
       "1. 'EET'\n",
       "2. 'EEN'\n",
       "3. 'ET'\n",
       "4. 'EN'\n",
       "5. 'ETT'\n",
       "\n",
       "\n"
      ],
      "text/plain": [
       "[1] \"EET\" \"EEN\" \"ET\"  \"EN\"  \"ETT\""
      ]
     },
     "metadata": {},
     "output_type": "display_data"
    }
   ],
   "source": [
    "hybs <- distances %>% subset(grepl(\"ET|EN\",bio1) & grepl(\"ET|EN\",bio2))\n",
    "\n",
    "# check present genomotypes\n",
    "c(hybs$bio1, hybs$bio2) %>% unique"
   ]
  },
  {
   "cell_type": "markdown",
   "metadata": {},
   "source": [
    "## Exploring peaks\n",
    "First, let's see which pairwise comparisons contribute to the right-most peaks, above the value 0.15:"
   ]
  },
  {
   "cell_type": "code",
   "execution_count": 8,
   "metadata": {
    "scrolled": true
   },
   "outputs": [
    {
     "data": {
      "text/html": [
       "<style>\n",
       ".list-inline {list-style: none; margin:0; padding: 0}\n",
       ".list-inline>li {display: inline-block}\n",
       ".list-inline>li:not(:last-child)::after {content: \"\\00b7\"; padding: 0 .5ex}\n",
       "</style>\n",
       "<ol class=list-inline><li>'EET-EEN'</li><li>'EEN-ET'</li><li>'EEN-EET'</li><li>'ET-EEN'</li><li>'ET-EN'</li><li>'EET-EN'</li><li>'EN-EET'</li><li>'EEN-ETT'</li><li>'EN-ETT'</li><li>'EN-ET'</li></ol>\n"
      ],
      "text/latex": [
       "\\begin{enumerate*}\n",
       "\\item 'EET-EEN'\n",
       "\\item 'EEN-ET'\n",
       "\\item 'EEN-EET'\n",
       "\\item 'ET-EEN'\n",
       "\\item 'ET-EN'\n",
       "\\item 'EET-EN'\n",
       "\\item 'EN-EET'\n",
       "\\item 'EEN-ETT'\n",
       "\\item 'EN-ETT'\n",
       "\\item 'EN-ET'\n",
       "\\end{enumerate*}\n"
      ],
      "text/markdown": [
       "1. 'EET-EEN'\n",
       "2. 'EEN-ET'\n",
       "3. 'EEN-EET'\n",
       "4. 'ET-EEN'\n",
       "5. 'ET-EN'\n",
       "6. 'EET-EN'\n",
       "7. 'EN-EET'\n",
       "8. 'EEN-ETT'\n",
       "9. 'EN-ETT'\n",
       "10. 'EN-ET'\n",
       "\n",
       "\n"
      ],
      "text/plain": [
       " [1] \"EET-EEN\" \"EEN-ET\"  \"EEN-EET\" \"ET-EEN\"  \"ET-EN\"   \"EET-EN\"  \"EN-EET\" \n",
       " [8] \"EEN-ETT\" \"EN-ETT\"  \"EN-ET\"  "
      ]
     },
     "metadata": {},
     "output_type": "display_data"
    }
   ],
   "source": [
    "hybs %>% \n",
    "    subset(p_mismatch>0.15) %$% \n",
    "    paste(bio1,bio2, sep=\"-\") %>% unique"
   ]
  },
  {
   "cell_type": "markdown",
   "metadata": {},
   "source": [
    "As we can see, these large distances mostly correspond to combinations of hybrids with different genomic compositions. In particular, we always see an *elongatoides-taenia* hybrid (ET / EET / ETT) paired with an *elongatoides-tanaitica* hybrid (EN / EEN).\n",
    "\n",
    "Next, we can have a look at the middle peak, at distances between 0.06 & 0.15:"
   ]
  },
  {
   "cell_type": "code",
   "execution_count": 9,
   "metadata": {
    "scrolled": true
   },
   "outputs": [
    {
     "data": {
      "text/html": [
       "<style>\n",
       ".list-inline {list-style: none; margin:0; padding: 0}\n",
       ".list-inline>li {display: inline-block}\n",
       ".list-inline>li:not(:last-child)::after {content: \"\\00b7\"; padding: 0 .5ex}\n",
       "</style>\n",
       "<ol class=list-inline><li>'EEN-EEN'</li><li>'EET-ET'</li><li>'ET-EET'</li><li>'ET-ET'</li><li>'EEN-EN'</li><li>'EN-EEN'</li><li>'ET-ETT'</li><li>'EET-ETT'</li><li>'ETT-ETT'</li><li>'ETT-ET'</li></ol>\n"
      ],
      "text/latex": [
       "\\begin{enumerate*}\n",
       "\\item 'EEN-EEN'\n",
       "\\item 'EET-ET'\n",
       "\\item 'ET-EET'\n",
       "\\item 'ET-ET'\n",
       "\\item 'EEN-EN'\n",
       "\\item 'EN-EEN'\n",
       "\\item 'ET-ETT'\n",
       "\\item 'EET-ETT'\n",
       "\\item 'ETT-ETT'\n",
       "\\item 'ETT-ET'\n",
       "\\end{enumerate*}\n"
      ],
      "text/markdown": [
       "1. 'EEN-EEN'\n",
       "2. 'EET-ET'\n",
       "3. 'ET-EET'\n",
       "4. 'ET-ET'\n",
       "5. 'EEN-EN'\n",
       "6. 'EN-EEN'\n",
       "7. 'ET-ETT'\n",
       "8. 'EET-ETT'\n",
       "9. 'ETT-ETT'\n",
       "10. 'ETT-ET'\n",
       "\n",
       "\n"
      ],
      "text/plain": [
       " [1] \"EEN-EEN\" \"EET-ET\"  \"ET-EET\"  \"ET-ET\"   \"EEN-EN\"  \"EN-EEN\"  \"ET-ETT\" \n",
       " [8] \"EET-ETT\" \"ETT-ETT\" \"ETT-ET\" "
      ]
     },
     "metadata": {},
     "output_type": "display_data"
    }
   ],
   "source": [
    "hybs %>% \n",
    "    subset(p_mismatch<0.15 & p_mismatch>0.06) %$% \n",
    "    paste(bio1,bio2, sep=\"-\") %>% unique"
   ]
  },
  {
   "cell_type": "markdown",
   "metadata": {},
   "source": [
    "Here the combinations are between different genomotypes of hybrids, but always within one of the two main hybrid types: either *elongatoides-taenia* hybrids (E & T genomes) or *elongatoides-tanaitica* hybrids (E & N genomes).\n",
    "\n",
    "Lastly, let's see the pairs contributing to the small left-most peak, where distances are below 0.06:"
   ]
  },
  {
   "cell_type": "code",
   "execution_count": 10,
   "metadata": {
    "scrolled": true
   },
   "outputs": [
    {
     "data": {
      "text/html": [
       "<style>\n",
       ".list-inline {list-style: none; margin:0; padding: 0}\n",
       ".list-inline>li {display: inline-block}\n",
       ".list-inline>li:not(:last-child)::after {content: \"\\00b7\"; padding: 0 .5ex}\n",
       "</style>\n",
       "<ol class=list-inline><li>'EEN-EEN'</li><li>'EET-EET'</li><li>'ET-ET'</li><li>'EN-EN'</li><li>'ETT-ETT'</li><li>'ET-ETT'</li><li>'ETT-ET'</li></ol>\n"
      ],
      "text/latex": [
       "\\begin{enumerate*}\n",
       "\\item 'EEN-EEN'\n",
       "\\item 'EET-EET'\n",
       "\\item 'ET-ET'\n",
       "\\item 'EN-EN'\n",
       "\\item 'ETT-ETT'\n",
       "\\item 'ET-ETT'\n",
       "\\item 'ETT-ET'\n",
       "\\end{enumerate*}\n"
      ],
      "text/markdown": [
       "1. 'EEN-EEN'\n",
       "2. 'EET-EET'\n",
       "3. 'ET-ET'\n",
       "4. 'EN-EN'\n",
       "5. 'ETT-ETT'\n",
       "6. 'ET-ETT'\n",
       "7. 'ETT-ET'\n",
       "\n",
       "\n"
      ],
      "text/plain": [
       "[1] \"EEN-EEN\" \"EET-EET\" \"ET-ET\"   \"EN-EN\"   \"ETT-ETT\" \"ET-ETT\"  \"ETT-ET\" "
      ]
     },
     "metadata": {},
     "output_type": "display_data"
    }
   ],
   "source": [
    "hybs %>% \n",
    "    subset(p_mismatch<0.06) %$% \n",
    "    paste(bio1,bio2, sep=\"-\") %>% unique"
   ]
  },
  {
   "cell_type": "markdown",
   "metadata": {},
   "source": [
    "These distances *nearly always* correspond to pairs from within the same genomotypes, except the last two pairs: ET-ETT & ETT-ET. If we look up the samples involved, we see they are young hybrids from the same sampling site in Poland - HZ0701:"
   ]
  },
  {
   "cell_type": "code",
   "execution_count": 11,
   "metadata": {
    "scrolled": false
   },
   "outputs": [
    {
     "data": {
      "text/html": [
       "<table>\n",
       "<caption>A data.frame: 4 × 7</caption>\n",
       "<thead>\n",
       "\t<tr><th></th><th scope=col>anim1</th><th scope=col>anim2</th><th scope=col>total</th><th scope=col>mismatch</th><th scope=col>p_mismatch</th><th scope=col>bio1</th><th scope=col>bio2</th></tr>\n",
       "\t<tr><th></th><th scope=col>&lt;chr&gt;</th><th scope=col>&lt;chr&gt;</th><th scope=col>&lt;int&gt;</th><th scope=col>&lt;int&gt;</th><th scope=col>&lt;dbl&gt;</th><th scope=col>&lt;chr&gt;</th><th scope=col>&lt;chr&gt;</th></tr>\n",
       "</thead>\n",
       "<tbody>\n",
       "\t<tr><th scope=row>908</th><td>csc067</td><td>csc087</td><td>108380</td><td>5038</td><td>0.04648459</td><td>ET </td><td>ETT</td></tr>\n",
       "\t<tr><th scope=row>909</th><td>csc057</td><td>csc087</td><td> 98755</td><td>4537</td><td>0.04594198</td><td>ET </td><td>ETT</td></tr>\n",
       "\t<tr><th scope=row>951</th><td>csc087</td><td>csc089</td><td>115557</td><td>6173</td><td>0.05341952</td><td>ETT</td><td>ET </td></tr>\n",
       "\t<tr><th scope=row>995</th><td>csc087</td><td>csc090</td><td>114198</td><td>4921</td><td>0.04309182</td><td>ETT</td><td>ET </td></tr>\n",
       "</tbody>\n",
       "</table>\n"
      ],
      "text/latex": [
       "A data.frame: 4 × 7\n",
       "\\begin{tabular}{r|lllllll}\n",
       "  & anim1 & anim2 & total & mismatch & p\\_mismatch & bio1 & bio2\\\\\n",
       "  & <chr> & <chr> & <int> & <int> & <dbl> & <chr> & <chr>\\\\\n",
       "\\hline\n",
       "\t908 & csc067 & csc087 & 108380 & 5038 & 0.04648459 & ET  & ETT\\\\\n",
       "\t909 & csc057 & csc087 &  98755 & 4537 & 0.04594198 & ET  & ETT\\\\\n",
       "\t951 & csc087 & csc089 & 115557 & 6173 & 0.05341952 & ETT & ET \\\\\n",
       "\t995 & csc087 & csc090 & 114198 & 4921 & 0.04309182 & ETT & ET \\\\\n",
       "\\end{tabular}\n"
      ],
      "text/markdown": [
       "\n",
       "A data.frame: 4 × 7\n",
       "\n",
       "| <!--/--> | anim1 &lt;chr&gt; | anim2 &lt;chr&gt; | total &lt;int&gt; | mismatch &lt;int&gt; | p_mismatch &lt;dbl&gt; | bio1 &lt;chr&gt; | bio2 &lt;chr&gt; |\n",
       "|---|---|---|---|---|---|---|---|\n",
       "| 908 | csc067 | csc087 | 108380 | 5038 | 0.04648459 | ET  | ETT |\n",
       "| 909 | csc057 | csc087 |  98755 | 4537 | 0.04594198 | ET  | ETT |\n",
       "| 951 | csc087 | csc089 | 115557 | 6173 | 0.05341952 | ETT | ET  |\n",
       "| 995 | csc087 | csc090 | 114198 | 4921 | 0.04309182 | ETT | ET  |\n",
       "\n"
      ],
      "text/plain": [
       "    anim1  anim2  total  mismatch p_mismatch bio1 bio2\n",
       "908 csc067 csc087 108380 5038     0.04648459 ET   ETT \n",
       "909 csc057 csc087  98755 4537     0.04594198 ET   ETT \n",
       "951 csc087 csc089 115557 6173     0.05341952 ETT  ET  \n",
       "995 csc087 csc090 114198 4921     0.04309182 ETT  ET  "
      ]
     },
     "metadata": {},
     "output_type": "display_data"
    }
   ],
   "source": [
    "hybs %>% \n",
    "    subset(((bio1==\"ET\" & bio2==\"ETT\") | (bio1==\"ETT\" & bio2==\"ET\")) & p_mismatch<0.06)"
   ]
  },
  {
   "cell_type": "markdown",
   "metadata": {},
   "source": [
    "Having a peak of low distances, composed of sample pairs drawn mostly from the same genomotypes, is a good starting point for delimiting MLLs, but we are not done yet.\n",
    "\n",
    "First, we are unsure that our method can detect clonal lineages across different genomotypes (e.g. after polyploidization event turning ET into EET or ETT).\n",
    "\n",
    "Another problem is that some pairs of genomotypes from within the small peak also appear in the middle peak of intermediate distances - are they also from the same MLLs? Where is the line?\n",
    "\n",
    "To get these answers, we now have to look at the samples themselves and how they group together into trios and larger groups. At some point we arrive at conflicting MLL assignments, at which point we can consider delimiting a new MLL."
   ]
  }
 ],
 "metadata": {
  "kernelspec": {
   "display_name": "R",
   "language": "R",
   "name": "ir"
  },
  "language_info": {
   "codemirror_mode": "r",
   "file_extension": ".r",
   "mimetype": "text/x-r-source",
   "name": "R",
   "pygments_lexer": "r",
   "version": "4.0.3"
  }
 },
 "nbformat": 4,
 "nbformat_minor": 4
}
